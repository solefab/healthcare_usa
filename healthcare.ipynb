{
 "cells": [
  {
   "cell_type": "markdown",
   "id": "78c67047",
   "metadata": {},
   "source": [
    "### Introducción\n",
    "\n",
    "Este trabajo es el resultado de mi aprendizaje en el curso *\"Learn Statistics with Python\"* en la plataforma *Codecademy*, donde exploramos las diversas aplicaciones estadísticas utilizando el lenguaje de programación Python. En este proyecto, nos sumergiremos en el mundo de la atención médica en los Estados Unidos, analizando datos detallados sobre diferentes estados. Al construir este notebook, aplicaremos las técnicas y herramientas estadísticas que adquirimos para extraer insights significativos de los datos."
   ]
  },
  {
   "cell_type": "markdown",
   "id": "f4315bad",
   "metadata": {},
   "source": [
    "#### Media, Mediana y Moda\n",
    "\n",
    "Comenzaremos buscando los tres indicadores más comunes y conocidos de una base de datos. Antes de empezar importaremos las librerías de Numpy y Pandas con las que trabajaremos a lo largo del notebook y también haremos una vista previa rápida de la estructura y los contenidos."
   ]
  },
  {
   "cell_type": "code",
   "execution_count": 1,
   "id": "4dbe835f",
   "metadata": {
    "scrolled": true
   },
   "outputs": [
    {
     "data": {
      "text/html": [
       "<div>\n",
       "<style scoped>\n",
       "    .dataframe tbody tr th:only-of-type {\n",
       "        vertical-align: middle;\n",
       "    }\n",
       "\n",
       "    .dataframe tbody tr th {\n",
       "        vertical-align: top;\n",
       "    }\n",
       "\n",
       "    .dataframe thead th {\n",
       "        text-align: right;\n",
       "    }\n",
       "</style>\n",
       "<table border=\"1\" class=\"dataframe\">\n",
       "  <thead>\n",
       "    <tr style=\"text-align: right;\">\n",
       "      <th></th>\n",
       "      <th>DRG Definition</th>\n",
       "      <th>Provider Id</th>\n",
       "      <th>Provider Name</th>\n",
       "      <th>Provider Street Address</th>\n",
       "      <th>Provider City</th>\n",
       "      <th>Provider State</th>\n",
       "      <th>Provider Zip Code</th>\n",
       "      <th>Hospital Referral Region Description</th>\n",
       "      <th>Total Discharges</th>\n",
       "      <th>Average Covered Charges</th>\n",
       "      <th>Average Total Payments</th>\n",
       "      <th>Average Medicare Payments</th>\n",
       "    </tr>\n",
       "  </thead>\n",
       "  <tbody>\n",
       "    <tr>\n",
       "      <th>0</th>\n",
       "      <td>039 - EXTRACRANIAL PROCEDURES W/O CC/MCC</td>\n",
       "      <td>10001</td>\n",
       "      <td>SOUTHEAST ALABAMA MEDICAL CENTER</td>\n",
       "      <td>1108 ROSS CLARK CIRCLE</td>\n",
       "      <td>DOTHAN</td>\n",
       "      <td>AL</td>\n",
       "      <td>36301</td>\n",
       "      <td>AL - Dothan</td>\n",
       "      <td>91</td>\n",
       "      <td>32963.07</td>\n",
       "      <td>5777.24</td>\n",
       "      <td>4763.73</td>\n",
       "    </tr>\n",
       "    <tr>\n",
       "      <th>1</th>\n",
       "      <td>039 - EXTRACRANIAL PROCEDURES W/O CC/MCC</td>\n",
       "      <td>10005</td>\n",
       "      <td>MARSHALL MEDICAL CENTER SOUTH</td>\n",
       "      <td>2505 U S HIGHWAY 431 NORTH</td>\n",
       "      <td>BOAZ</td>\n",
       "      <td>AL</td>\n",
       "      <td>35957</td>\n",
       "      <td>AL - Birmingham</td>\n",
       "      <td>14</td>\n",
       "      <td>15131.85</td>\n",
       "      <td>5787.57</td>\n",
       "      <td>4976.71</td>\n",
       "    </tr>\n",
       "    <tr>\n",
       "      <th>2</th>\n",
       "      <td>039 - EXTRACRANIAL PROCEDURES W/O CC/MCC</td>\n",
       "      <td>10006</td>\n",
       "      <td>ELIZA COFFEE MEMORIAL HOSPITAL</td>\n",
       "      <td>205 MARENGO STREET</td>\n",
       "      <td>FLORENCE</td>\n",
       "      <td>AL</td>\n",
       "      <td>35631</td>\n",
       "      <td>AL - Birmingham</td>\n",
       "      <td>24</td>\n",
       "      <td>37560.37</td>\n",
       "      <td>5434.95</td>\n",
       "      <td>4453.79</td>\n",
       "    </tr>\n",
       "    <tr>\n",
       "      <th>3</th>\n",
       "      <td>039 - EXTRACRANIAL PROCEDURES W/O CC/MCC</td>\n",
       "      <td>10011</td>\n",
       "      <td>ST VINCENT'S EAST</td>\n",
       "      <td>50 MEDICAL PARK EAST DRIVE</td>\n",
       "      <td>BIRMINGHAM</td>\n",
       "      <td>AL</td>\n",
       "      <td>35235</td>\n",
       "      <td>AL - Birmingham</td>\n",
       "      <td>25</td>\n",
       "      <td>13998.28</td>\n",
       "      <td>5417.56</td>\n",
       "      <td>4129.16</td>\n",
       "    </tr>\n",
       "    <tr>\n",
       "      <th>4</th>\n",
       "      <td>039 - EXTRACRANIAL PROCEDURES W/O CC/MCC</td>\n",
       "      <td>10016</td>\n",
       "      <td>SHELBY BAPTIST MEDICAL CENTER</td>\n",
       "      <td>1000 FIRST STREET NORTH</td>\n",
       "      <td>ALABASTER</td>\n",
       "      <td>AL</td>\n",
       "      <td>35007</td>\n",
       "      <td>AL - Birmingham</td>\n",
       "      <td>18</td>\n",
       "      <td>31633.27</td>\n",
       "      <td>5658.33</td>\n",
       "      <td>4851.44</td>\n",
       "    </tr>\n",
       "  </tbody>\n",
       "</table>\n",
       "</div>"
      ],
      "text/plain": [
       "                             DRG Definition  Provider Id  \\\n",
       "0  039 - EXTRACRANIAL PROCEDURES W/O CC/MCC        10001   \n",
       "1  039 - EXTRACRANIAL PROCEDURES W/O CC/MCC        10005   \n",
       "2  039 - EXTRACRANIAL PROCEDURES W/O CC/MCC        10006   \n",
       "3  039 - EXTRACRANIAL PROCEDURES W/O CC/MCC        10011   \n",
       "4  039 - EXTRACRANIAL PROCEDURES W/O CC/MCC        10016   \n",
       "\n",
       "                      Provider Name     Provider Street Address Provider City  \\\n",
       "0  SOUTHEAST ALABAMA MEDICAL CENTER      1108 ROSS CLARK CIRCLE        DOTHAN   \n",
       "1     MARSHALL MEDICAL CENTER SOUTH  2505 U S HIGHWAY 431 NORTH          BOAZ   \n",
       "2    ELIZA COFFEE MEMORIAL HOSPITAL          205 MARENGO STREET      FLORENCE   \n",
       "3                 ST VINCENT'S EAST  50 MEDICAL PARK EAST DRIVE    BIRMINGHAM   \n",
       "4     SHELBY BAPTIST MEDICAL CENTER     1000 FIRST STREET NORTH     ALABASTER   \n",
       "\n",
       "  Provider State  Provider Zip Code Hospital Referral Region Description  \\\n",
       "0             AL              36301                          AL - Dothan   \n",
       "1             AL              35957                      AL - Birmingham   \n",
       "2             AL              35631                      AL - Birmingham   \n",
       "3             AL              35235                      AL - Birmingham   \n",
       "4             AL              35007                      AL - Birmingham   \n",
       "\n",
       "    Total Discharges    Average Covered Charges    Average Total Payments   \\\n",
       "0                  91                   32963.07                   5777.24   \n",
       "1                  14                   15131.85                   5787.57   \n",
       "2                  24                   37560.37                   5434.95   \n",
       "3                  25                   13998.28                   5417.56   \n",
       "4                  18                   31633.27                   5658.33   \n",
       "\n",
       "   Average Medicare Payments  \n",
       "0                    4763.73  \n",
       "1                    4976.71  \n",
       "2                    4453.79  \n",
       "3                    4129.16  \n",
       "4                    4851.44  "
      ]
     },
     "execution_count": 1,
     "metadata": {},
     "output_type": "execute_result"
    }
   ],
   "source": [
    "import numpy as np\n",
    "import pandas as pd\n",
    "from matplotlib import pyplot as plt\n",
    "\n",
    "healthcare = pd.read_csv('healthcare.csv')\n",
    "\n",
    "healthcare.head()"
   ]
  },
  {
   "cell_type": "markdown",
   "id": "2ce13ca0",
   "metadata": {},
   "source": [
    "Para trabajar mejor, vamos a hacer otra visualización previa que nos proporcione una visión general rápida de la estructua de datos. Esta es especialmente útil para explorar conjuntos de datos grandes o desconocidos y nos permite tener información del tipo de datos en cada columna, la cantidad de valores no nulos y la cantidad total de elementos del DataFrame."
   ]
  },
  {
   "cell_type": "code",
   "execution_count": 2,
   "id": "4a5cb1a4",
   "metadata": {},
   "outputs": [
    {
     "name": "stdout",
     "output_type": "stream",
     "text": [
      "<class 'pandas.core.frame.DataFrame'>\n",
      "RangeIndex: 163065 entries, 0 to 163064\n",
      "Data columns (total 12 columns):\n",
      " #   Column                                Non-Null Count   Dtype  \n",
      "---  ------                                --------------   -----  \n",
      " 0   DRG Definition                        163065 non-null  object \n",
      " 1   Provider Id                           163065 non-null  int64  \n",
      " 2   Provider Name                         163065 non-null  object \n",
      " 3   Provider Street Address               163065 non-null  object \n",
      " 4   Provider City                         163065 non-null  object \n",
      " 5   Provider State                        163065 non-null  object \n",
      " 6   Provider Zip Code                     163065 non-null  int64  \n",
      " 7   Hospital Referral Region Description  163065 non-null  object \n",
      " 8    Total Discharges                     163065 non-null  int64  \n",
      " 9    Average Covered Charges              163065 non-null  float64\n",
      " 10   Average Total Payments               163065 non-null  float64\n",
      " 11  Average Medicare Payments             163065 non-null  float64\n",
      "dtypes: float64(3), int64(3), object(6)\n",
      "memory usage: 14.9+ MB\n"
     ]
    }
   ],
   "source": [
    "healthcare.info()"
   ]
  },
  {
   "cell_type": "markdown",
   "id": "ce264a52",
   "metadata": {},
   "source": [
    "Al ver los nombres de las columnas encontramos que en algunas hay espacios antes, y tal vez también después, del nombre de la columna. Esto podría parecer un asunto menor, pero puede ser especialmente molesto a la hora de trabajar, por lo que rapidamente procederemos a eliminar esos espacios para poder trabajar mejor en el futuro. Luego volveremos a llamar a la función `.info()` para ver el antes y el después de nuestro trabajo."
   ]
  },
  {
   "cell_type": "code",
   "execution_count": 3,
   "id": "77150cc7",
   "metadata": {},
   "outputs": [
    {
     "name": "stdout",
     "output_type": "stream",
     "text": [
      "<class 'pandas.core.frame.DataFrame'>\n",
      "RangeIndex: 163065 entries, 0 to 163064\n",
      "Data columns (total 12 columns):\n",
      " #   Column                                Non-Null Count   Dtype  \n",
      "---  ------                                --------------   -----  \n",
      " 0   DRG Definition                        163065 non-null  object \n",
      " 1   Provider Id                           163065 non-null  int64  \n",
      " 2   Provider Name                         163065 non-null  object \n",
      " 3   Provider Street Address               163065 non-null  object \n",
      " 4   Provider City                         163065 non-null  object \n",
      " 5   Provider State                        163065 non-null  object \n",
      " 6   Provider Zip Code                     163065 non-null  int64  \n",
      " 7   Hospital Referral Region Description  163065 non-null  object \n",
      " 8   Total Discharges                      163065 non-null  int64  \n",
      " 9   Average Covered Charges               163065 non-null  float64\n",
      " 10  Average Total Payments                163065 non-null  float64\n",
      " 11  Average Medicare Payments             163065 non-null  float64\n",
      "dtypes: float64(3), int64(3), object(6)\n",
      "memory usage: 14.9+ MB\n"
     ]
    }
   ],
   "source": [
    "healthcare.columns = healthcare.columns.str.strip()\n",
    "healthcare.info()"
   ]
  },
  {
   "cell_type": "markdown",
   "id": "41415c74",
   "metadata": {},
   "source": [
    "Ahora si nos adentraremos en los objetivos de la sección: calcular la media, la mediana y la moda. Lo haremos sobre la columna \"Average Total Payments\", por lo que crearemos la variable `avg_total_payments`."
   ]
  },
  {
   "cell_type": "code",
   "execution_count": 4,
   "id": "0fa6d5ec",
   "metadata": {},
   "outputs": [
    {
     "data": {
      "text/plain": [
       "0    5777.24\n",
       "1    5787.57\n",
       "2    5434.95\n",
       "3    5417.56\n",
       "4    5658.33\n",
       "Name: Average Total Payments, dtype: float64"
      ]
     },
     "execution_count": 4,
     "metadata": {},
     "output_type": "execute_result"
    }
   ],
   "source": [
    "avg_total_payments = healthcare['Average Total Payments']\n",
    "avg_total_payments.head()"
   ]
  },
  {
   "cell_type": "code",
   "execution_count": 5,
   "id": "c865e0a1",
   "metadata": {},
   "outputs": [
    {
     "data": {
      "text/plain": [
       "9707"
      ]
     },
     "execution_count": 5,
     "metadata": {},
     "output_type": "execute_result"
    }
   ],
   "source": [
    "#Calculamos la media\n",
    "media_total_payments = round(np.average(avg_total_payments))\n",
    "media_total_payments"
   ]
  },
  {
   "cell_type": "code",
   "execution_count": 6,
   "id": "4976f002",
   "metadata": {},
   "outputs": [
    {
     "data": {
      "text/plain": [
       "7214"
      ]
     },
     "execution_count": 6,
     "metadata": {},
     "output_type": "execute_result"
    }
   ],
   "source": [
    "#Calculamos la mediana\n",
    "median_total_payments = round(np.median(avg_total_payments))\n",
    "median_total_payments"
   ]
  },
  {
   "cell_type": "code",
   "execution_count": 7,
   "id": "a41d4fdd",
   "metadata": {},
   "outputs": [
    {
     "name": "stderr",
     "output_type": "stream",
     "text": [
      "C:\\Users\\Sole\\AppData\\Local\\Temp\\ipykernel_12640\\918121842.py:2: FutureWarning: Unlike other reduction functions (e.g. `skew`, `kurtosis`), the default behavior of `mode` typically preserves the axis it acts along. In SciPy 1.11.0, this behavior will change: the default value of `keepdims` will become False, the `axis` over which the statistic is taken will be eliminated, and the value None will no longer be accepted. Set `keepdims` to True or False to avoid this warning.\n",
      "  moda_total_payments = stats.mode(avg_total_payments)\n"
     ]
    },
    {
     "data": {
      "text/plain": [
       "ModeResult(mode=array([4370.]), count=array([9]))"
      ]
     },
     "execution_count": 7,
     "metadata": {},
     "output_type": "execute_result"
    }
   ],
   "source": [
    "from scipy import stats\n",
    "moda_total_payments = stats.mode(avg_total_payments)\n",
    "moda_total_payments"
   ]
  },
  {
   "cell_type": "markdown",
   "id": "a218b540",
   "metadata": {},
   "source": [
    "Ahora haremos un gráfico de barras y veremos cómo se distribuyen los tres valores que hemos obtenido dentro del mismo"
   ]
  },
  {
   "cell_type": "code",
   "execution_count": 8,
   "id": "0c0b7fc2",
   "metadata": {},
   "outputs": [
    {
     "data": {
      "image/png": "[encoded data removed]",
      "text/plain": [
       "<Figure size 640x480 with 1 Axes>"
      ]
     },
     "metadata": {},
     "output_type": "display_data"
    }
   ],
   "source": [
    "plt.hist(avg_total_payments, range=(2673, 156158.18), bins=1000)\n",
    "plt.title(\"Average total payments\")\n",
    "plt.xlabel(\"Payment\")\n",
    "plt.ylabel(\"Count\")\n",
    "plt.axvline(media_total_payments, color='r', linestyle='solid', linewidth=3, label=\"Media US$9707\")\n",
    "plt.axvline(median_total_payments, color='y', linestyle='dotted', linewidth=3, label=\"Mediana US$7212\")\n",
    "plt.axvline(moda_total_payments[0], color='orange', linestyle='dashed', linewidth=3, label=\"Moda US$4370\")\n",
    "plt.legend()\n",
    "plt.show()"
   ]
  },
  {
   "cell_type": "markdown",
   "id": "5cf0e830",
   "metadata": {},
   "source": [
    "En el cuadro anterior podemos vemos donde se ubican la media, la mediana y la moda en relación al total de los datos. Sin embargo nos quedan varias cuestiones por problematizar: por un lado sabemos que la media de pagos es de *US$9707*, pero tal vez no sea muy representativo ya que el calculo se hizo sobre 100 prácticas médicas distintas distribuidas a lo largo de todos los estados de USA.\n",
    "\n",
    "El hecho de que la mediana, *US$7212*, sea un número inferior a la media, nos indica que la distribución de los datos es sesgada a la derecha, cosa que confirmamos al ver el gráfico de barras.\n",
    "\n",
    "Por último la moda equivale a *US$4370*, es más frecuente un gasto de este orden en comparación a prácticas más onerosas."
   ]
  },
  {
   "cell_type": "markdown",
   "id": "894b9540",
   "metadata": {},
   "source": [
    "#### Varianza y desvío standard\n",
    "En esta sección, exploraremos la variabilidad en los costos de prácticas médicas utilizando la varianza y el desvío estándar. Estas herramientas nos permitirán comprender cuán dispersos están los costos en nuestro dataframe. La varianza cuantifica la extensión de esta dispersión, mientras que el desvío estándar proporciona una medida más interpretable, por lo que al calcular y analizarlas obtendremos una visión más profunda de la consistencia y la distribución de los costos asociados a diversas prácticas médicas."
   ]
  },
  {
   "cell_type": "code",
   "execution_count": null,
   "id": "2aa97a5b",
   "metadata": {},
   "outputs": [],
   "source": [
    "varianza = round(np.var(avg_total_payments))\n",
    "varianza"
   ]
  },
  {
   "cell_type": "code",
   "execution_count": null,
   "id": "0f4c7d42",
   "metadata": {},
   "outputs": [],
   "source": [
    "desvio_std = round(np.std(avg_total_payments))\n",
    "desvio_std"
   ]
  },
  {
   "cell_type": "code",
   "execution_count": null,
   "id": "08c60fb0",
   "metadata": {},
   "outputs": [],
   "source": [
    "practicas_medicas_mas_repetidas = healthcare['DRG Definition'].value_counts()\n",
    "practicas_medicas_mas_repetidas.head(10)"
   ]
  },
  {
   "cell_type": "code",
   "execution_count": null,
   "id": "41393bb2",
   "metadata": {},
   "outputs": [],
   "source": []
  },
  {
   "cell_type": "code",
   "execution_count": null,
   "id": "12300691",
   "metadata": {},
   "outputs": [],
   "source": [
    "healthcare['DRG Definition'].describe()"
   ]
  },
  {
   "cell_type": "code",
   "execution_count": null,
   "id": "eac7165a",
   "metadata": {},
   "outputs": [],
   "source": [
    "healthcare['DRG Definition'].unique()"
   ]
  },
  {
   "cell_type": "code",
   "execution_count": null,
   "id": "ece50366",
   "metadata": {},
   "outputs": [],
   "source": [
    "plt.hist(avg_total_payments, range=(media_total_payments - 3 * desvio_std, media_total_payments + 3 * desvio_std), bins=1000)\n",
    "plt.title(\"Average total payments\")\n",
    "plt.xlabel(\"Payment\")\n",
    "plt.ylabel(\"Count\")\n",
    "plt.axvline(media_total_payments, color='r', linestyle='solid', linewidth=3, label=f\"Media US${media_total_payments:.2f}\")\n",
    "for i in range(1, 4):\n",
    "    plt.axvline(media_total_payments + i * desvio_std, color='gray', linestyle='dashed', linewidth=1, alpha=0.7)\n",
    "    plt.axvline(media_total_payments - i * desvio_std, color='gray', linestyle='dashed', linewidth=1, alpha=0.7)\n",
    "plt.legend()\n",
    "plt.show()"
   ]
  },
  {
   "cell_type": "code",
   "execution_count": null,
   "id": "08634bf8",
   "metadata": {},
   "outputs": [],
   "source": []
  },
  {
   "cell_type": "code",
   "execution_count": null,
   "id": "516f8af8",
   "metadata": {},
   "outputs": [],
   "source": []
  }
 ],
 "metadata": {
  "kernelspec": {
   "display_name": "Python 3 (ipykernel)",
   "language": "python",
   "name": "python3"
  },
  "language_info": {
   "codemirror_mode": {
    "name": "ipython",
    "version": 3
   },
   "file_extension": ".py",
   "mimetype": "text/x-python",
   "name": "python",
   "nbconvert_exporter": "python",
   "pygments_lexer": "ipython3",
   "version": "3.11.4"
  }
 },
 "nbformat": 4,
 "nbformat_minor": 5
}
