{
 "cells": [
  {
   "cell_type": "markdown",
   "id": "78c67047",
   "metadata": {},
   "source": [
    "### Introducción\n",
    "\n",
    "Este trabajo es el resultado de mi aprendizaje en el curso *\"Learn Statistics with Python\"* en la plataforma *Codecademy*, donde exploramos las diversas aplicaciones estadísticas utilizando el lenguaje de programación Python. En este proyecto, nos sumergiremos en el mundo de la atención médica en los Estados Unidos, analizando datos detallados sobre diferentes estados. Al construir este notebook, aplicaremos las técnicas y herramientas estadísticas que adquirimos para extraer insights significativos de los datos."
   ]
  },
  {
   "cell_type": "markdown",
   "id": "f4315bad",
   "metadata": {},
   "source": [
    "#### Media, Mediana y Moda\n",
    "\n",
    "Comenzaremos buscando los tres indicadores más comunes y conocidos de una base de datos. Antes de empezar importaremos las librerías de Numpy y Pandas con las que trabajaremos a lo largo del notebook y también haremos una vista previa rápida de la estructura y los contenidos."
   ]
  },
  {
   "cell_type": "code",
   "execution_count": 1,
   "id": "4dbe835f",
   "metadata": {
    "scrolled": true
   },
   "outputs": [
    {
     "data": {
      "text/html": [
       "<div>\n",
       "<style scoped>\n",
       "    .dataframe tbody tr th:only-of-type {\n",
       "        vertical-align: middle;\n",
       "    }\n",
       "\n",
       "    .dataframe tbody tr th {\n",
       "        vertical-align: top;\n",
       "    }\n",
       "\n",
       "    .dataframe thead th {\n",
       "        text-align: right;\n",
       "    }\n",
       "</style>\n",
       "<table border=\"1\" class=\"dataframe\">\n",
       "  <thead>\n",
       "    <tr style=\"text-align: right;\">\n",
       "      <th></th>\n",
       "      <th>DRG Definition</th>\n",
       "      <th>Provider Id</th>\n",
       "      <th>Provider Name</th>\n",
       "      <th>Provider Street Address</th>\n",
       "      <th>Provider City</th>\n",
       "      <th>Provider State</th>\n",
       "      <th>Provider Zip Code</th>\n",
       "      <th>Hospital Referral Region Description</th>\n",
       "      <th>Total Discharges</th>\n",
       "      <th>Average Covered Charges</th>\n",
       "      <th>Average Total Payments</th>\n",
       "      <th>Average Medicare Payments</th>\n",
       "    </tr>\n",
       "  </thead>\n",
       "  <tbody>\n",
       "    <tr>\n",
       "      <th>0</th>\n",
       "      <td>039 - EXTRACRANIAL PROCEDURES W/O CC/MCC</td>\n",
       "      <td>10001</td>\n",
       "      <td>SOUTHEAST ALABAMA MEDICAL CENTER</td>\n",
       "      <td>1108 ROSS CLARK CIRCLE</td>\n",
       "      <td>DOTHAN</td>\n",
       "      <td>AL</td>\n",
       "      <td>36301</td>\n",
       "      <td>AL - Dothan</td>\n",
       "      <td>91</td>\n",
       "      <td>32963.07</td>\n",
       "      <td>5777.24</td>\n",
       "      <td>4763.73</td>\n",
       "    </tr>\n",
       "    <tr>\n",
       "      <th>1</th>\n",
       "      <td>039 - EXTRACRANIAL PROCEDURES W/O CC/MCC</td>\n",
       "      <td>10005</td>\n",
       "      <td>MARSHALL MEDICAL CENTER SOUTH</td>\n",
       "      <td>2505 U S HIGHWAY 431 NORTH</td>\n",
       "      <td>BOAZ</td>\n",
       "      <td>AL</td>\n",
       "      <td>35957</td>\n",
       "      <td>AL - Birmingham</td>\n",
       "      <td>14</td>\n",
       "      <td>15131.85</td>\n",
       "      <td>5787.57</td>\n",
       "      <td>4976.71</td>\n",
       "    </tr>\n",
       "    <tr>\n",
       "      <th>2</th>\n",
       "      <td>039 - EXTRACRANIAL PROCEDURES W/O CC/MCC</td>\n",
       "      <td>10006</td>\n",
       "      <td>ELIZA COFFEE MEMORIAL HOSPITAL</td>\n",
       "      <td>205 MARENGO STREET</td>\n",
       "      <td>FLORENCE</td>\n",
       "      <td>AL</td>\n",
       "      <td>35631</td>\n",
       "      <td>AL - Birmingham</td>\n",
       "      <td>24</td>\n",
       "      <td>37560.37</td>\n",
       "      <td>5434.95</td>\n",
       "      <td>4453.79</td>\n",
       "    </tr>\n",
       "    <tr>\n",
       "      <th>3</th>\n",
       "      <td>039 - EXTRACRANIAL PROCEDURES W/O CC/MCC</td>\n",
       "      <td>10011</td>\n",
       "      <td>ST VINCENT'S EAST</td>\n",
       "      <td>50 MEDICAL PARK EAST DRIVE</td>\n",
       "      <td>BIRMINGHAM</td>\n",
       "      <td>AL</td>\n",
       "      <td>35235</td>\n",
       "      <td>AL - Birmingham</td>\n",
       "      <td>25</td>\n",
       "      <td>13998.28</td>\n",
       "      <td>5417.56</td>\n",
       "      <td>4129.16</td>\n",
       "    </tr>\n",
       "    <tr>\n",
       "      <th>4</th>\n",
       "      <td>039 - EXTRACRANIAL PROCEDURES W/O CC/MCC</td>\n",
       "      <td>10016</td>\n",
       "      <td>SHELBY BAPTIST MEDICAL CENTER</td>\n",
       "      <td>1000 FIRST STREET NORTH</td>\n",
       "      <td>ALABASTER</td>\n",
       "      <td>AL</td>\n",
       "      <td>35007</td>\n",
       "      <td>AL - Birmingham</td>\n",
       "      <td>18</td>\n",
       "      <td>31633.27</td>\n",
       "      <td>5658.33</td>\n",
       "      <td>4851.44</td>\n",
       "    </tr>\n",
       "  </tbody>\n",
       "</table>\n",
       "</div>"
      ],
      "text/plain": [
       "                             DRG Definition  Provider Id  \\\n",
       "0  039 - EXTRACRANIAL PROCEDURES W/O CC/MCC        10001   \n",
       "1  039 - EXTRACRANIAL PROCEDURES W/O CC/MCC        10005   \n",
       "2  039 - EXTRACRANIAL PROCEDURES W/O CC/MCC        10006   \n",
       "3  039 - EXTRACRANIAL PROCEDURES W/O CC/MCC        10011   \n",
       "4  039 - EXTRACRANIAL PROCEDURES W/O CC/MCC        10016   \n",
       "\n",
       "                      Provider Name     Provider Street Address Provider City  \\\n",
       "0  SOUTHEAST ALABAMA MEDICAL CENTER      1108 ROSS CLARK CIRCLE        DOTHAN   \n",
       "1     MARSHALL MEDICAL CENTER SOUTH  2505 U S HIGHWAY 431 NORTH          BOAZ   \n",
       "2    ELIZA COFFEE MEMORIAL HOSPITAL          205 MARENGO STREET      FLORENCE   \n",
       "3                 ST VINCENT'S EAST  50 MEDICAL PARK EAST DRIVE    BIRMINGHAM   \n",
       "4     SHELBY BAPTIST MEDICAL CENTER     1000 FIRST STREET NORTH     ALABASTER   \n",
       "\n",
       "  Provider State  Provider Zip Code Hospital Referral Region Description  \\\n",
       "0             AL              36301                          AL - Dothan   \n",
       "1             AL              35957                      AL - Birmingham   \n",
       "2             AL              35631                      AL - Birmingham   \n",
       "3             AL              35235                      AL - Birmingham   \n",
       "4             AL              35007                      AL - Birmingham   \n",
       "\n",
       "    Total Discharges    Average Covered Charges    Average Total Payments   \\\n",
       "0                  91                   32963.07                   5777.24   \n",
       "1                  14                   15131.85                   5787.57   \n",
       "2                  24                   37560.37                   5434.95   \n",
       "3                  25                   13998.28                   5417.56   \n",
       "4                  18                   31633.27                   5658.33   \n",
       "\n",
       "   Average Medicare Payments  \n",
       "0                    4763.73  \n",
       "1                    4976.71  \n",
       "2                    4453.79  \n",
       "3                    4129.16  \n",
       "4                    4851.44  "
      ]
     },
     "execution_count": 1,
     "metadata": {},
     "output_type": "execute_result"
    }
   ],
   "source": [
    "import numpy as np\n",
    "import pandas as pd\n",
    "from matplotlib import pyplot as plt\n",
    "\n",
    "healthcare = pd.read_csv('healthcare.csv')\n",
    "\n",
    "healthcare.head()"
   ]
  },
  {
   "cell_type": "markdown",
   "id": "2ce13ca0",
   "metadata": {},
   "source": [
    "Para trabajar mejor, vamos a hacer otra visualización previa que nos proporcione una visión general rápida de la estructura de datos. Esta es especialmente útil para explorar conjuntos de datos grandes o desconocidos y nos permite tener información del tipo de datos en cada columna, la cantidad de valores no nulos y la cantidad total de elementos del DataFrame."
   ]
  },
  {
   "cell_type": "code",
   "execution_count": 2,
   "id": "4a5cb1a4",
   "metadata": {},
   "outputs": [
    {
     "name": "stdout",
     "output_type": "stream",
     "text": [
      "<class 'pandas.core.frame.DataFrame'>\n",
      "RangeIndex: 163065 entries, 0 to 163064\n",
      "Data columns (total 12 columns):\n",
      " #   Column                                Non-Null Count   Dtype  \n",
      "---  ------                                --------------   -----  \n",
      " 0   DRG Definition                        163065 non-null  object \n",
      " 1   Provider Id                           163065 non-null  int64  \n",
      " 2   Provider Name                         163065 non-null  object \n",
      " 3   Provider Street Address               163065 non-null  object \n",
      " 4   Provider City                         163065 non-null  object \n",
      " 5   Provider State                        163065 non-null  object \n",
      " 6   Provider Zip Code                     163065 non-null  int64  \n",
      " 7   Hospital Referral Region Description  163065 non-null  object \n",
      " 8    Total Discharges                     163065 non-null  int64  \n",
      " 9    Average Covered Charges              163065 non-null  float64\n",
      " 10   Average Total Payments               163065 non-null  float64\n",
      " 11  Average Medicare Payments             163065 non-null  float64\n",
      "dtypes: float64(3), int64(3), object(6)\n",
      "memory usage: 14.9+ MB\n"
     ]
    }
   ],
   "source": [
    "healthcare.info()"
   ]
  },
  {
   "cell_type": "markdown",
   "id": "ce264a52",
   "metadata": {},
   "source": [
    "Al ver los nombres de las columnas encontramos que en algunas hay espacios antes, y tal vez también después, del nombre de la columna. Esto podría parecer un asunto menor, pero puede ser especialmente molesto a la hora de trabajar, por lo que rapidamente procederemos a eliminar esos espacios para poder trabajar mejor en el futuro. Luego volveremos a llamar a la función `.info()` para ver el antes y el después de nuestro trabajo."
   ]
  },
  {
   "cell_type": "code",
   "execution_count": 3,
   "id": "77150cc7",
   "metadata": {},
   "outputs": [
    {
     "name": "stdout",
     "output_type": "stream",
     "text": [
      "<class 'pandas.core.frame.DataFrame'>\n",
      "RangeIndex: 163065 entries, 0 to 163064\n",
      "Data columns (total 12 columns):\n",
      " #   Column                                Non-Null Count   Dtype  \n",
      "---  ------                                --------------   -----  \n",
      " 0   DRG Definition                        163065 non-null  object \n",
      " 1   Provider Id                           163065 non-null  int64  \n",
      " 2   Provider Name                         163065 non-null  object \n",
      " 3   Provider Street Address               163065 non-null  object \n",
      " 4   Provider City                         163065 non-null  object \n",
      " 5   Provider State                        163065 non-null  object \n",
      " 6   Provider Zip Code                     163065 non-null  int64  \n",
      " 7   Hospital Referral Region Description  163065 non-null  object \n",
      " 8   Total Discharges                      163065 non-null  int64  \n",
      " 9   Average Covered Charges               163065 non-null  float64\n",
      " 10  Average Total Payments                163065 non-null  float64\n",
      " 11  Average Medicare Payments             163065 non-null  float64\n",
      "dtypes: float64(3), int64(3), object(6)\n",
      "memory usage: 14.9+ MB\n"
     ]
    }
   ],
   "source": [
    "healthcare.columns = healthcare.columns.str.strip()\n",
    "healthcare.info()"
   ]
  },
  {
   "cell_type": "markdown",
   "id": "41415c74",
   "metadata": {},
   "source": [
    "Ahora si nos adentraremos en los objetivos de la sección: calcular la media, la mediana y la moda. Lo haremos sobre la columna \"Average Total Payments\"."
   ]
  },
  {
   "cell_type": "code",
   "execution_count": 4,
   "id": "c865e0a1",
   "metadata": {},
   "outputs": [
    {
     "data": {
      "text/plain": [
       "9707"
      ]
     },
     "execution_count": 4,
     "metadata": {},
     "output_type": "execute_result"
    }
   ],
   "source": [
    "#Calculamos la media\n",
    "media_total_payments = round(np.average(healthcare['Average Total Payments']))\n",
    "media_total_payments"
   ]
  },
  {
   "cell_type": "code",
   "execution_count": 5,
   "id": "4976f002",
   "metadata": {},
   "outputs": [
    {
     "data": {
      "text/plain": [
       "7214"
      ]
     },
     "execution_count": 5,
     "metadata": {},
     "output_type": "execute_result"
    }
   ],
   "source": [
    "#Calculamos la mediana\n",
    "median_total_payments = round(np.median(healthcare['Average Total Payments']))\n",
    "median_total_payments"
   ]
  },
  {
   "cell_type": "code",
   "execution_count": 6,
   "id": "a41d4fdd",
   "metadata": {},
   "outputs": [
    {
     "name": "stderr",
     "output_type": "stream",
     "text": [
      "C:\\Users\\Sole\\AppData\\Local\\Temp\\ipykernel_1704\\3043082665.py:2: FutureWarning: Unlike other reduction functions (e.g. `skew`, `kurtosis`), the default behavior of `mode` typically preserves the axis it acts along. In SciPy 1.11.0, this behavior will change: the default value of `keepdims` will become False, the `axis` over which the statistic is taken will be eliminated, and the value None will no longer be accepted. Set `keepdims` to True or False to avoid this warning.\n",
      "  moda_total_payments = stats.mode(healthcare['Average Total Payments'])\n"
     ]
    },
    {
     "data": {
      "text/plain": [
       "ModeResult(mode=array([4370.]), count=array([9]))"
      ]
     },
     "execution_count": 6,
     "metadata": {},
     "output_type": "execute_result"
    }
   ],
   "source": [
    "from scipy import stats\n",
    "moda_total_payments = stats.mode(healthcare['Average Total Payments'])\n",
    "moda_total_payments"
   ]
  },
  {
   "cell_type": "markdown",
   "id": "a218b540",
   "metadata": {},
   "source": [
    "Ahora haremos un gráfico de barras y veremos cómo se distribuyen los tres valores que hemos obtenido dentro del mismo"
   ]
  },
  {
   "cell_type": "code",
   "execution_count": 8,
   "id": "0c0b7fc2",
   "metadata": {},
   "outputs": [
    {
     "data": {
      "image/png": "[encoded data removed]",
      "text/plain": [
       "<Figure size 640x480 with 1 Axes>"
      ]
     },
     "metadata": {},
     "output_type": "display_data"
    }
   ],
   "source": [
    "plt.hist(healthcare['Average Total Payments'], range=(2673, 156158.18), bins=1000)\n",
    "plt.title(\"Average total payments\")\n",
    "plt.xlabel(\"Payment\")\n",
    "plt.ylabel(\"Count\")\n",
    "plt.axvline(media_total_payments, color='r', linestyle='solid', linewidth=1.5, label=\"Media US$9707\")\n",
    "plt.axvline(median_total_payments, color='y', linestyle='dotted', linewidth=1.5, label=\"Mediana US$7212\")\n",
    "plt.axvline(moda_total_payments[0], color='orange', linestyle='dashed', linewidth=1.5, label=\"Moda US$4370\")\n",
    "#plt.ylim(0, 100) #si descomentamos esta linea podremos ver en más detalle el eje Y del 0 al 100 y entender que los valores de nuestro df se repiten con poca frecuencia cuando tienen costos muy elevados\n",
    "plt.legend()\n",
    "plt.show()"
   ]
  },
  {
   "cell_type": "markdown",
   "id": "894b9540",
   "metadata": {},
   "source": [
    "#### Varianza y desvío standard\n",
    "En esta sección, exploraremos la variabilidad en los costos de prácticas médicas utilizando la varianza y el desvío estándar. Estas herramientas nos permitirán comprender cuán dispersos están los costos en nuestro dataframe. La varianza cuantifica la extensión de esta dispersión, mientras que el desvío estándar proporciona una medida más interpretable, por lo que al calcular y analizarlas obtendremos una visión más profunda de la consistencia y la distribución de los costos asociados a diversas prácticas médicas."
   ]
  },
  {
   "cell_type": "code",
   "execution_count": 9,
   "id": "2aa97a5b",
   "metadata": {},
   "outputs": [
    {
     "data": {
      "text/plain": [
       "58746386"
      ]
     },
     "execution_count": 9,
     "metadata": {},
     "output_type": "execute_result"
    }
   ],
   "source": [
    "varianza = round(np.var(healthcare['Average Total Payments']))\n",
    "varianza"
   ]
  },
  {
   "cell_type": "code",
   "execution_count": 10,
   "id": "0f4c7d42",
   "metadata": {},
   "outputs": [
    {
     "data": {
      "text/plain": [
       "7665"
      ]
     },
     "execution_count": 10,
     "metadata": {},
     "output_type": "execute_result"
    }
   ],
   "source": [
    "desvio_std = round(np.std(healthcare['Average Total Payments']))\n",
    "desvio_std"
   ]
  },
  {
   "cell_type": "markdown",
   "id": "aadd31ad",
   "metadata": {},
   "source": [
    "A continuación elaboraremos un gráfico de barras donde, además de la media, se marcará tres veces el desvío standard a cada lado de la misma."
   ]
  },
  {
   "cell_type": "code",
   "execution_count": 12,
   "id": "ece50366",
   "metadata": {},
   "outputs": [
    {
     "data": {
      "image/png": "[encoded data removed]",
      "text/plain": [
       "<Figure size 640x480 with 1 Axes>"
      ]
     },
     "metadata": {},
     "output_type": "display_data"
    }
   ],
   "source": [
    "plt.hist(healthcare['Average Total Payments'], range=(media_total_payments - 3 * desvio_std, media_total_payments + 3 * desvio_std), bins=1000)\n",
    "plt.title(\"Average total payments\")\n",
    "plt.xlabel(\"Payment\")\n",
    "plt.ylabel(\"Count\")\n",
    "plt.axvline(media_total_payments, color='r', linestyle='solid', linewidth=2, label=f\"Media US${media_total_payments:.2f}\")\n",
    "for i in range(1, 4):\n",
    "    plt.axvline(media_total_payments + i * desvio_std, color='gray', linestyle='dashed', linewidth=1, alpha=0.7)\n",
    "    plt.axvline(media_total_payments - i * desvio_std, color='gray', linestyle='dashed', linewidth=1, alpha=0.7)\n",
    "plt.legend()\n",
    "plt.show()"
   ]
  },
  {
   "cell_type": "markdown",
   "id": "5cf0e830",
   "metadata": {},
   "source": [
    "#### Conclusiones preliminares\n",
    "\n",
    "En el análisis de la variable \"Average total payments\", hemos calculado y examinado diversas medidas estadísticas para comprender la distribución de los datos. La media, que es de *US$9707*, nos proporciona un valor central que, en este contexto, puede no ser completamente representativo debido a la variabilidad en las prácticas médicas, que se distribuyen a lo largo de todos los estados de USA.\n",
    "\n",
    "La mediana, con un valor de *US$7212*, se presenta como una métrica más robusta ante la presencia de posibles valores extremos, y su posición inferior con respecto a la media sugiere un sesgo hacia la derecha en la distribución de los datos. Este sesgo se confirma al observar el histograma, el cual exhibe una concentración de datos hacia valores superiores.\n",
    "\n",
    "La moda, que corresponde a *US$4370*, indica el valor más frecuente en la variable. Es interesante notar que esta moda refleja un gasto más bajo en comparación con la media, sugiriendo que hay una mayor frecuencia de prácticas médicas con costos más bajos en el conjunto de datos.\n",
    "\n",
    "Ahora, al considerar la varianza y el desvío estándar, que son 58746386 y 7665 respectivamente, podemos profundizar en la dispersión de los datos. La varianza mide la amplitud de la distribución, indicando cuánto se alejan los valores individuales de la media. En este caso, una varianza relativamente alta sugiere una considerable variabilidad en los pagos totales de las prácticas médicas.\n",
    "\n",
    "El desvío estándar, siendo la raíz cuadrada de la varianza, nos proporciona una medida de dispersión más intuitiva. Con un valor de 7665, podemos interpretar que, en promedio, los pagos totales tienden a desviarse alrededor de esta cantidad de la media. Un desvío estándar más alto indica una mayor dispersión de los datos.\n",
    "\n",
    "En resumen, los resultados de la varianza y el desvío estándar enfatizan la variabilidad y dispersión significativas en los pagos totales de las prácticas médicas. Esto refuerza la noción de que la media puede no ser completamente representativa, y subraya la importancia de considerar tanto medidas centrales como medidas de dispersión al analizar conjuntos de datos complejos y sesgados."
   ]
  },
  {
   "cell_type": "markdown",
   "id": "165a2a30",
   "metadata": {},
   "source": [
    "#### Segunda parte del análisis\n",
    "Como dijimos anteriormente, en la columna 'DRG Definition' de nuestro dataframe agrupa diagnosticos que se realizan con distinta frecuencia, y de distinto nivel de complejidad y costo, por lo tanto la media es una estadística que no nos dice mucho. A continuación analizaremos cuales son los diagnósticos más y menos frecuentes.\n",
    "Primero llamaremos a la función `.describe()` para saber cuantos diagnósticos diferentes tiene nuestro dataframe y cual es el diagnóstico más común."
   ]
  },
  {
   "cell_type": "code",
   "execution_count": 13,
   "id": "12300691",
   "metadata": {},
   "outputs": [
    {
     "data": {
      "text/plain": [
       "count                                     163065\n",
       "unique                                       100\n",
       "top       194 - SIMPLE PNEUMONIA & PLEURISY W CC\n",
       "freq                                        3023\n",
       "Name: DRG Definition, dtype: object"
      ]
     },
     "execution_count": 13,
     "metadata": {},
     "output_type": "execute_result"
    }
   ],
   "source": [
    "healthcare['DRG Definition'].describe()"
   ]
  },
  {
   "cell_type": "markdown",
   "id": "9f1ba8aa",
   "metadata": {},
   "source": [
    "Para conocer cuales son cada uno de los 100 diagnósticos que están codificados en el dataframe, llamaremos a la función `.unique()`"
   ]
  },
  {
   "cell_type": "code",
   "execution_count": 14,
   "id": "eac7165a",
   "metadata": {},
   "outputs": [
    {
     "data": {
      "text/plain": [
       "array(['039 - EXTRACRANIAL PROCEDURES W/O CC/MCC',\n",
       "       '057 - DEGENERATIVE NERVOUS SYSTEM DISORDERS W/O MCC',\n",
       "       '069 - TRANSIENT ISCHEMIA',\n",
       "       '064 - INTRACRANIAL HEMORRHAGE OR CEREBRAL INFARCTION W MCC',\n",
       "       '065 - INTRACRANIAL HEMORRHAGE OR CEREBRAL INFARCTION W CC',\n",
       "       '066 - INTRACRANIAL HEMORRHAGE OR CEREBRAL INFARCTION W/O CC/MCC',\n",
       "       '074 - CRANIAL & PERIPHERAL NERVE DISORDERS W/O MCC',\n",
       "       '101 - SEIZURES W/O MCC', '149 - DYSEQUILIBRIUM',\n",
       "       '176 - PULMONARY EMBOLISM W/O MCC',\n",
       "       '177 - RESPIRATORY INFECTIONS & INFLAMMATIONS W MCC',\n",
       "       '189 - PULMONARY EDEMA & RESPIRATORY FAILURE',\n",
       "       '178 - RESPIRATORY INFECTIONS & INFLAMMATIONS W CC',\n",
       "       '190 - CHRONIC OBSTRUCTIVE PULMONARY DISEASE W MCC',\n",
       "       '191 - CHRONIC OBSTRUCTIVE PULMONARY DISEASE W CC',\n",
       "       '193 - SIMPLE PNEUMONIA & PLEURISY W MCC',\n",
       "       '194 - SIMPLE PNEUMONIA & PLEURISY W CC',\n",
       "       '192 - CHRONIC OBSTRUCTIVE PULMONARY DISEASE W/O CC/MCC',\n",
       "       '195 - SIMPLE PNEUMONIA & PLEURISY W/O CC/MCC',\n",
       "       '202 - BRONCHITIS & ASTHMA W CC/MCC',\n",
       "       '203 - BRONCHITIS & ASTHMA W/O CC/MCC',\n",
       "       '207 - RESPIRATORY SYSTEM DIAGNOSIS W VENTILATOR SUPPORT 96+ HOURS',\n",
       "       '238 - MAJOR CARDIOVASC PROCEDURES W/O MCC',\n",
       "       '252 - OTHER VASCULAR PROCEDURES W MCC',\n",
       "       '253 - OTHER VASCULAR PROCEDURES W CC',\n",
       "       '208 - RESPIRATORY SYSTEM DIAGNOSIS W VENTILATOR SUPPORT <96 HOURS',\n",
       "       '254 - OTHER VASCULAR PROCEDURES W/O CC/MCC',\n",
       "       '291 - HEART FAILURE & SHOCK W MCC',\n",
       "       '243 - PERMANENT CARDIAC PACEMAKER IMPLANT W CC',\n",
       "       '244 - PERMANENT CARDIAC PACEMAKER IMPLANT W/O CC/MCC',\n",
       "       '246 - PERC CARDIOVASC PROC W DRUG-ELUTING STENT W MCC OR 4+ VESSELS/STENTS',\n",
       "       '247 - PERC CARDIOVASC PROC W DRUG-ELUTING STENT W/O MCC',\n",
       "       '249 - PERC CARDIOVASC PROC W NON-DRUG-ELUTING STENT W/O MCC',\n",
       "       '251 - PERC CARDIOVASC PROC W/O CORONARY ARTERY STENT W/O MCC',\n",
       "       '280 - ACUTE MYOCARDIAL INFARCTION, DISCHARGED ALIVE W MCC',\n",
       "       '292 - HEART FAILURE & SHOCK W CC',\n",
       "       '281 - ACUTE MYOCARDIAL INFARCTION, DISCHARGED ALIVE W CC',\n",
       "       '282 - ACUTE MYOCARDIAL INFARCTION, DISCHARGED ALIVE W/O CC/MCC',\n",
       "       '286 - CIRCULATORY DISORDERS EXCEPT AMI, W CARD CATH W MCC',\n",
       "       '287 - CIRCULATORY DISORDERS EXCEPT AMI, W CARD CATH W/O MCC',\n",
       "       '293 - HEART FAILURE & SHOCK W/O CC/MCC',\n",
       "       '300 - PERIPHERAL VASCULAR DISORDERS W CC',\n",
       "       '301 - PERIPHERAL VASCULAR DISORDERS W/O CC/MCC',\n",
       "       '303 - ATHEROSCLEROSIS W/O MCC', '305 - HYPERTENSION W/O MCC',\n",
       "       '308 - CARDIAC ARRHYTHMIA & CONDUCTION DISORDERS W MCC',\n",
       "       '312 - SYNCOPE & COLLAPSE',\n",
       "       '309 - CARDIAC ARRHYTHMIA & CONDUCTION DISORDERS W CC',\n",
       "       '310 - CARDIAC ARRHYTHMIA & CONDUCTION DISORDERS W/O CC/MCC',\n",
       "       '313 - CHEST PAIN',\n",
       "       '314 - OTHER CIRCULATORY SYSTEM DIAGNOSES W MCC',\n",
       "       '315 - OTHER CIRCULATORY SYSTEM DIAGNOSES W CC',\n",
       "       '330 - MAJOR SMALL & LARGE BOWEL PROCEDURES W CC',\n",
       "       '377 - G.I. HEMORRHAGE W MCC',\n",
       "       '329 - MAJOR SMALL & LARGE BOWEL PROCEDURES W MCC',\n",
       "       '372 - MAJOR GASTROINTESTINAL DISORDERS & PERITONEAL INFECTIONS W CC',\n",
       "       '378 - G.I. HEMORRHAGE W CC', '379 - G.I. HEMORRHAGE W/O CC/MCC',\n",
       "       '389 - G.I. OBSTRUCTION W CC', '390 - G.I. OBSTRUCTION W/O CC/MCC',\n",
       "       '391 - ESOPHAGITIS, GASTROENT & MISC DIGEST DISORDERS W MCC',\n",
       "       '394 - OTHER DIGESTIVE SYSTEM DIAGNOSES W CC',\n",
       "       '439 - DISORDERS OF PANCREAS EXCEPT MALIGNANCY W CC',\n",
       "       '392 - ESOPHAGITIS, GASTROENT & MISC DIGEST DISORDERS W/O MCC',\n",
       "       '460 - SPINAL FUSION EXCEPT CERVICAL W/O MCC',\n",
       "       '473 - CERVICAL SPINAL FUSION W/O CC/MCC',\n",
       "       '418 - LAPAROSCOPIC CHOLECYSTECTOMY W/O C.D.E. W CC',\n",
       "       '419 - LAPAROSCOPIC CHOLECYSTECTOMY W/O C.D.E. W/O CC/MCC',\n",
       "       '469 - MAJOR JOINT REPLACEMENT OR REATTACHMENT OF LOWER EXTREMITY W MCC',\n",
       "       '470 - MAJOR JOINT REPLACEMENT OR REATTACHMENT OF LOWER EXTREMITY W/O MCC',\n",
       "       '480 - HIP & FEMUR PROCEDURES EXCEPT MAJOR JOINT W MCC',\n",
       "       '481 - HIP & FEMUR PROCEDURES EXCEPT MAJOR JOINT W CC',\n",
       "       '536 - FRACTURES OF HIP & PELVIS W/O MCC',\n",
       "       '482 - HIP & FEMUR PROCEDURES EXCEPT MAJOR JOINT W/O CC/MCC',\n",
       "       '552 - MEDICAL BACK PROBLEMS W/O MCC',\n",
       "       '491 - BACK & NECK PROC EXC SPINAL FUSION W/O CC/MCC',\n",
       "       '563 - FX, SPRN, STRN & DISL EXCEPT FEMUR, HIP, PELVIS & THIGH W/O MCC',\n",
       "       '602 - CELLULITIS W MCC', '603 - CELLULITIS W/O MCC',\n",
       "       '638 - DIABETES W CC',\n",
       "       '640 - MISC DISORDERS OF NUTRITION,METABOLISM,FLUIDS/ELECTROLYTES W MCC',\n",
       "       '682 - RENAL FAILURE W MCC',\n",
       "       '641 - MISC DISORDERS OF NUTRITION,METABOLISM,FLUIDS/ELECTROLYTES W/O MCC',\n",
       "       '683 - RENAL FAILURE W CC', '684 - RENAL FAILURE W/O CC/MCC',\n",
       "       '689 - KIDNEY & URINARY TRACT INFECTIONS W MCC',\n",
       "       '690 - KIDNEY & URINARY TRACT INFECTIONS W/O MCC',\n",
       "       '811 - RED BLOOD CELL DISORDERS W MCC',\n",
       "       '698 - OTHER KIDNEY & URINARY TRACT DIAGNOSES W MCC',\n",
       "       '699 - OTHER KIDNEY & URINARY TRACT DIAGNOSES W CC',\n",
       "       '812 - RED BLOOD CELL DISORDERS W/O MCC',\n",
       "       '853 - INFECTIOUS & PARASITIC DISEASES W O.R. PROCEDURE W MCC',\n",
       "       '885 - PSYCHOSES',\n",
       "       '870 - SEPTICEMIA OR SEVERE SEPSIS W MV 96+ HOURS',\n",
       "       '871 - SEPTICEMIA OR SEVERE SEPSIS W/O MV 96+ HOURS W MCC',\n",
       "       '872 - SEPTICEMIA OR SEVERE SEPSIS W/O MV 96+ HOURS W/O MCC',\n",
       "       '897 - ALCOHOL/DRUG ABUSE OR DEPENDENCE W/O REHABILITATION THERAPY W/O MCC',\n",
       "       '948 - SIGNS & SYMPTOMS W/O MCC',\n",
       "       '917 - POISONING & TOXIC EFFECTS OF DRUGS W MCC',\n",
       "       '918 - POISONING & TOXIC EFFECTS OF DRUGS W/O MCC'], dtype=object)"
      ]
     },
     "execution_count": 14,
     "metadata": {},
     "output_type": "execute_result"
    }
   ],
   "source": [
    "healthcare['DRG Definition'].unique()"
   ]
  },
  {
   "cell_type": "markdown",
   "id": "83bbd3fc",
   "metadata": {},
   "source": [
    "Para ver cómo continuará nuestro análisis, buscaremos los 10 diagnósticos cuyo tratamiento es más costoso y más económico. Una vez que obtengamos ese listado de los más costosos y más económicos. Veremos en qué estados se registran."
   ]
  },
  {
   "cell_type": "code",
   "execution_count": 15,
   "id": "08634bf8",
   "metadata": {},
   "outputs": [
    {
     "name": "stdout",
     "output_type": "stream",
     "text": [
      "207 - RESPIRATORY SYSTEM DIAGNOSIS W VENTILATOR SUPPORT 96+ HOURS         3\n",
      "870 - SEPTICEMIA OR SEVERE SEPSIS W MV 96+ HOURS                          3\n",
      "853 - INFECTIOUS & PARASITIC DISEASES W O.R. PROCEDURE W MCC              1\n",
      "460 - SPINAL FUSION EXCEPT CERVICAL W/O MCC                               1\n",
      "329 - MAJOR SMALL & LARGE BOWEL PROCEDURES W MCC                          1\n",
      "469 - MAJOR JOINT REPLACEMENT OR REATTACHMENT OF LOWER EXTREMITY W MCC    1\n",
      "Name: DRG Definition, dtype: int64\n",
      "CA    4\n",
      "NY    4\n",
      "IN    1\n",
      "PA    1\n",
      "Name: Provider State, dtype: int64\n"
     ]
    }
   ],
   "source": [
    "#Diagnósticos con tratamiento más costoso\n",
    "healthcare_costoso = (healthcare.sort_values(by='Average Total Payments', ascending=False)).head(10)\n",
    "print(healthcare_costoso['DRG Definition'].value_counts())\n",
    "print(healthcare_costoso['Provider State'].value_counts())\n",
    "\n",
    "#Acá cuando vemos los primeros 10 vemos que se repiten los estados 4(6 veces) y NY (4 veces), IN, PA una vez cada uno, \n",
    "#capaz CA y NY son los dos estados más caros para la salud, hay que revisar que pasa en los demas dx"
   ]
  },
  {
   "cell_type": "code",
   "execution_count": 16,
   "id": "4144b0e1",
   "metadata": {},
   "outputs": [
    {
     "name": "stdout",
     "output_type": "stream",
     "text": [
      "313 - CHEST PAIN                                              9\n",
      "310 - CARDIAC ARRHYTHMIA & CONDUCTION DISORDERS W/O CC/MCC    1\n",
      "Name: DRG Definition, dtype: int64\n",
      "WV    2\n",
      "IN    2\n",
      "OH    1\n",
      "AL    1\n",
      "OK    1\n",
      "TX    1\n",
      "MO    1\n",
      "TN    1\n",
      "Name: Provider State, dtype: int64\n"
     ]
    }
   ],
   "source": [
    "#Diagnósticos con tratamiento más económico\n",
    "healthcare_economico = (healthcare.sort_values(by='Average Total Payments', ascending=True)).head(10)\n",
    "print(healthcare_economico['DRG Definition'].value_counts())\n",
    "print(healthcare_economico['Provider State'].value_counts())\n",
    "\n",
    "#Entre los trátamientos más económicos tenemos 2 WV 2 IN, y el diagnostico más repetido es Chest pain"
   ]
  },
  {
   "cell_type": "markdown",
   "id": "571c741e",
   "metadata": {},
   "source": [
    "Antes de continuar vamos a calcular las medias de los estados de California (CA), Nueva York(NY), West Virginia (WV) e Indiana (IN). los primeros estados son los que más se repetían cuando buscamos entre los 10 tratamientos más costosos del dataframe, los segundos son los estados que más se repetían cuando buscamos los diez tratamientos más económicos. Indiana tiene un interés especial porque si bien aparecía una sóla vez entre los 10 más costosos, también aparecía en la selección de los menos costosos. De esta forma intentaremos ver, aún sabiendo lo sesgado de intentar analizar datos tan complejos sólo con la media, si en alguno de los estados es marcadamente más alto que los demás."
   ]
  },
  {
   "cell_type": "code",
   "execution_count": 17,
   "id": "a4b9271c",
   "metadata": {},
   "outputs": [],
   "source": [
    "#Acá creamos 4 df que reunen la información del mismo estado\n",
    "ca_healthcare = healthcare[healthcare['Provider State'] == \"CA\"]\n",
    "ny_healthcare = healthcare[healthcare['Provider State'] == \"NY\"]\n",
    "wv_healthcare = healthcare[healthcare['Provider State'] == \"WV\"]\n",
    "in_healthcare = healthcare[healthcare['Provider State'] == \"IN\"]"
   ]
  },
  {
   "cell_type": "code",
   "execution_count": 18,
   "id": "3e325688",
   "metadata": {},
   "outputs": [
    {
     "name": "stdout",
     "output_type": "stream",
     "text": [
      "El promedio total de pagos en el estado de California es US$12630, mientras que el desvío standard es 10166. En Nueva York es US$11795 y el desvío standard 10060. En West Virginia es US$7968 y el desvío standard 10166. Por último en Indiana el promedio es US$8756 y el desvío standard 6686.\n"
     ]
    }
   ],
   "source": [
    "ca_healthcare_mean = np.mean(ca_healthcare['Average Total Payments'])\n",
    "ca_healthcare_sdt = np.std(ca_healthcare['Average Total Payments'])\n",
    "ny_healthcare_mean = np.mean(ny_healthcare['Average Total Payments'])\n",
    "ny_healthcare_sdt = np.std(ny_healthcare['Average Total Payments'])\n",
    "wv_healthcare_mean = np.mean(wv_healthcare['Average Total Payments'])\n",
    "wv_healthcare_sdt = np.std(wv_healthcare['Average Total Payments'])\n",
    "in_healthcare_mean = np.mean(in_healthcare['Average Total Payments'])\n",
    "in_healthcare_sdt = np.std(in_healthcare['Average Total Payments'])\n",
    "print('El promedio total de pagos en el estado de California es US$' + str(round(ca_healthcare_mean)) + ', mientras que el desvío standard es '+ str(round(ca_healthcare_sdt)) +'. En Nueva York es US$' + str(round(ny_healthcare_mean))+ ' y el desvío standard '+ str(round(ny_healthcare_sdt)) +  '. En West Virginia es US$'+ str(round(wv_healthcare_mean)) + ' y el desvío standard '+ str(round(ca_healthcare_sdt)) + '. Por último en Indiana el promedio es US$'+ str(round(in_healthcare_mean)) + ' y el desvío standard ' + str(round(in_healthcare_sdt))+'.')"
   ]
  },
  {
   "cell_type": "markdown",
   "id": "9021503e",
   "metadata": {},
   "source": [
    "Ahora seguiremos indagando los diagnósticos y las prácticas más y menos frecuentes"
   ]
  },
  {
   "cell_type": "code",
   "execution_count": null,
   "id": "08c60fb0",
   "metadata": {},
   "outputs": [],
   "source": [
    "#Cinco diagnósticos más frecuentes\n",
    "#practicas_medicas_mas_frec = (healthcare['DRG Definition'].value_counts()).head()\n",
    "#practicas_medicas_mas_frec"
   ]
  },
  {
   "cell_type": "code",
   "execution_count": null,
   "id": "3a2d300f",
   "metadata": {},
   "outputs": [],
   "source": [
    "#Cinco diagnósticos menos frecuentes\n",
    "#practicas_medicas_menos_frec = (healthcare['DRG Definition'].value_counts(ascending=True)).head()\n",
    "#practicas_medicas_menos_frec"
   ]
  },
  {
   "cell_type": "code",
   "execution_count": null,
   "id": "516f8af8",
   "metadata": {},
   "outputs": [],
   "source": [
    "#Calculo del porcentaje de costos que se encuentra por debajo de la media\n",
    "less_media = np.mean(avg_total_payments < 9707)\n",
    "less_media"
   ]
  },
  {
   "cell_type": "markdown",
   "id": "ebd9bf39",
   "metadata": {},
   "source": [
    "A continuación buscaremos saber cuantas veces los valores de los pagos superan los US$100.000 y qué porcentaje en relación al total de las prácticas son las que superan este monto, para intentar ver la representatividad que tienen en relación a todo el dataframe."
   ]
  },
  {
   "cell_type": "code",
   "execution_count": null,
   "id": "888897a1",
   "metadata": {},
   "outputs": [],
   "source": []
  }
 ],
 "metadata": {
  "kernelspec": {
   "display_name": "Python 3 (ipykernel)",
   "language": "python",
   "name": "python3"
  },
  "language_info": {
   "codemirror_mode": {
    "name": "ipython",
    "version": 3
   },
   "file_extension": ".py",
   "mimetype": "text/x-python",
   "name": "python",
   "nbconvert_exporter": "python",
   "pygments_lexer": "ipython3",
   "version": "3.11.4"
  }
 },
 "nbformat": 4,
 "nbformat_minor": 5
}
